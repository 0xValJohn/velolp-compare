{
 "cells": [
  {
   "cell_type": "code",
   "execution_count": 1,
   "metadata": {},
   "outputs": [],
   "source": [
    "import requests\n",
    "import pandas as pd\n",
    "\n",
    "beefi_api_apy = 'https://api.beefy.finance/apy'\n",
    "beefi_api_tvl = 'https://api.beefy.finance/tvl'\n",
    "yearn_api = 'https://api.yexporter.io/v1/chains/10/vaults/all'"
   ]
  },
  {
   "cell_type": "code",
   "execution_count": 2,
   "metadata": {},
   "outputs": [],
   "source": [
    "response_apy = requests.get(beefi_api_apy)\n",
    "data_apy = response_apy.json()\n",
    "filtered_data_apy = {k: v for k, v in data_apy.items() if 'velodrome' in k}\n",
    "df_apy = pd.DataFrame(list(filtered_data_apy.items()), columns=['Pair', 'Beefy APY'])\n",
    "response_tvl = requests.get(beefi_api_tvl)\n",
    "data_tvl = response_tvl.json()\n",
    "\n",
    "filtered_data_tvl = {}\n",
    "for _, nested_dict in data_tvl.items():\n",
    "    for k, v in nested_dict.items():\n",
    "        if 'velodrome-' in k:\n",
    "            filtered_data_tvl[k] = v\n",
    "\n",
    "df_tvl = pd.DataFrame(list(filtered_data_tvl.items()), columns=['Pair', 'Beefy TVL'])\n",
    "merged_beefy_df = pd.merge(df_apy, df_tvl, on='Pair', how='inner')\n",
    "merged_beefy_df['Pair'] = merged_beefy_df['Pair'].str.replace('velodrome-v2-', '', regex=False).str.upper().str.replace('/', '-')\n",
    "merged_beefy_df['Pair'] = merged_beefy_df['Pair'].str.replace('VELODROME', 'V1', regex=False)"
   ]
  },
  {
   "cell_type": "code",
   "execution_count": 3,
   "metadata": {},
   "outputs": [],
   "source": [
    "response = requests.get(yearn_api)\n",
    "data = response.json()\n",
    "filtered_data = [vault for vault in data if any(\"StrategyVelodrome\" in strategy['name'] or \"yvVelo\" in strategy['name'] for strategy in vault['strategies'])]\n",
    "\n",
    "extracted_data = []\n",
    "for vault in filtered_data:\n",
    "    for strategy in vault['strategies']:\n",
    "        pair_name = strategy['name']\n",
    "        \n",
    "        # Strip undesired parts and make replacements\n",
    "        pair_name = pair_name.replace(\"StrategyVelodromeFactory-vAMMV2-\", \"\").strip()\n",
    "        pair_name = pair_name.replace(\"StrategyVelodromeFactory-sAMMV2-\", \"\").strip()\n",
    "        pair_name = pair_name.replace(\"StrategyVelodromeFactory\", \"V1-\").strip()\n",
    "        pair_name = pair_name.replace(\"StrategyVelodrome\", \"V1-\").strip()\n",
    "        pair_name = pair_name.replace(\"Clonable\", \"\").strip()\n",
    "        pair_name = pair_name.replace(\"USDCDOLA\", \"USDC-DOLA\").strip()\n",
    "        \n",
    "        # Capitalize and replace \"/\"\n",
    "        pair_name = pair_name.upper().replace(\"/\", \"-\")\n",
    "\n",
    "        extracted_data.append({\n",
    "            'Pair': pair_name, \n",
    "            'Yearn APY': vault['apy']['net_apy'], \n",
    "            'Yearn TVL': vault['tvl']['tvl'],\n",
    "            'Yearn Address': vault['address']\n",
    "        })\n",
    "\n",
    "yearn_df = pd.DataFrame(extracted_data)"
   ]
  },
  {
   "cell_type": "code",
   "execution_count": 4,
   "metadata": {},
   "outputs": [
    {
     "name": "stdout",
     "output_type": "stream",
     "text": [
      "              Pair Beefy APY   Beefy TVL  Yearn APY      Yearn TVL  \\\n",
      "0     V1-FRAX-USD+  2.731887        0.44        NaN            NaN   \n",
      "1    V1-FRAX-ALUSD  0.000786      901.04        NaN            NaN   \n",
      "2     V1-USD+-DAI+   0.00765    20116.04        NaN            NaN   \n",
      "3      V1-LUSD-DAI  0.001845     1114.10        NaN            NaN   \n",
      "4     V1-USDT-LUSD  0.000619       30.99        NaN            NaN   \n",
      "..             ...       ...         ...        ...            ...   \n",
      "146     USDC-WUSDR  0.645378  1130197.65   0.642253  144909.304815   \n",
      "147       WETH-HOP  0.289775     2249.18        NaN            NaN   \n",
      "148       JRT-WETH   0.16414       95.58        NaN            NaN   \n",
      "149  WSTETH-PENDLE  0.025771    19641.44        NaN            NaN   \n",
      "150       OVN-USD+  1.983483   480450.69        NaN            NaN   \n",
      "\n",
      "                                  Yearn Address  \n",
      "0                                           NaN  \n",
      "1                                           NaN  \n",
      "2                                           NaN  \n",
      "3                                           NaN  \n",
      "4                                           NaN  \n",
      "..                                          ...  \n",
      "146  0x43360FDd9546e3e77ac2e6793f53219729743293  \n",
      "147                                         NaN  \n",
      "148                                         NaN  \n",
      "149                                         NaN  \n",
      "150                                         NaN  \n",
      "\n",
      "[151 rows x 6 columns]\n"
     ]
    }
   ],
   "source": [
    "# Merge the two DataFrames on the 'Pair' column\n",
    "merge_df = pd.merge(merged_beefy_df, yearn_df, on='Pair', how='left')\n",
    "print(merge_df)\n",
    "# Export the final_df DataFrame to a CSV file\n",
    "merge_df.to_csv('partial.csv', index=False)"
   ]
  },
  {
   "cell_type": "code",
   "execution_count": 5,
   "metadata": {},
   "outputs": [
    {
     "ename": "SyntaxError",
     "evalue": "invalid syntax (3518228025.py, line 7)",
     "output_type": "error",
     "traceback": [
      "\u001b[0;36m  Cell \u001b[0;32mIn[5], line 7\u001b[0;36m\u001b[0m\n\u001b[0;31m    'ERN-DOLA': 1400, // not here???\u001b[0m\n\u001b[0m                      ^\u001b[0m\n\u001b[0;31mSyntaxError\u001b[0m\u001b[0;31m:\u001b[0m invalid syntax\n"
     ]
    }
   ],
   "source": [
    "# From CMO tx\n",
    "# Careful, many pairs names are inverted\n",
    "\n",
    "pools = {\n",
    "  'ALETH-WETH': 2000,  \n",
    "  'USDC-MAI': 1400,\n",
    "  'ERN-DOLA': 1400, # not here???\n",
    "  'WETH-LUSD': 1000,\n",
    "  'USDC-VELO': 1000,\n",
    "  'USDC-SNX': 1000,\n",
    "  'USDC-ALUSD': 750,\n",
    "  'USDC-AGEUR': 500, \n",
    "  'WETH-TBTC': 500,\n",
    "  'USDC-MTA': 500,\n",
    "  'STERN-ERN': 500, # not here???\n",
    "  'STG-USDC': 500,\n",
    "  'FRAX-ALUSD': 300,\n",
    "  'WETH-OP': 300,\n",
    "  'WSTETH-LDO': 300,\n",
    "  'WBTC-TBTC': 300,\n",
    "  'OP-USDC': 300,\n",
    "  'USDC-DOLA': 300,\n",
    "  'EXA-WETH': 300, \n",
    "  'FRAX-DOLA': 200,\n",
    "  'ALUSD-MAI': 150,\n",
    "  'OP-VELO': 150,\n",
    "  'ALETH-FRXETH': 150,\n",
    "  'IB-WETH': 150, # not here???\n",
    "  'DOLA-MAI': 150,\n",
    "  'ERN-LUSD': 150  # not here???\n",
    "}\n",
    "\n",
    "# Add fee amount column \n",
    "merge_df['OP Boost'] = 0\n",
    "\n",
    "# Populate fee amount by matching pair in pools\n",
    "for index, row in merge_df.iterrows():\n",
    "    pair = row['Pair']\n",
    "    if pair in pools:\n",
    "        merge_df.at[index, 'OP Boost'] = pools[pair]"
   ]
  },
  {
   "cell_type": "code",
   "execution_count": null,
   "metadata": {},
   "outputs": [],
   "source": [
    "# Export the final_df DataFrame to a CSV file\n",
    "merge_df.to_csv('final_data.csv', index=False)"
   ]
  }
 ],
 "metadata": {
  "kernelspec": {
   "display_name": "Python 3",
   "language": "python",
   "name": "python3"
  },
  "language_info": {
   "codemirror_mode": {
    "name": "ipython",
    "version": 3
   },
   "file_extension": ".py",
   "mimetype": "text/x-python",
   "name": "python",
   "nbconvert_exporter": "python",
   "pygments_lexer": "ipython3",
   "version": "3.10.13"
  }
 },
 "nbformat": 4,
 "nbformat_minor": 2
}
